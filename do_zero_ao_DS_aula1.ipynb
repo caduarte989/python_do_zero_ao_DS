{
  "nbformat": 4,
  "nbformat_minor": 0,
  "metadata": {
    "colab": {
      "provenance": [],
      "authorship_tag": "ABX9TyOtpOlgxrm7QIF4KEB4aRdM",
      "include_colab_link": true
    },
    "kernelspec": {
      "name": "python3",
      "display_name": "Python 3"
    },
    "language_info": {
      "name": "python"
    }
  },
  "cells": [
    {
      "cell_type": "markdown",
      "metadata": {
        "id": "view-in-github",
        "colab_type": "text"
      },
      "source": [
        "<a href=\"https://colab.research.google.com/github/caduarte989/python_do_zero_ao_DS/blob/main/do_zero_ao_DS_aula1.ipynb\" target=\"_parent\"><img src=\"https://colab.research.google.com/assets/colab-badge.svg\" alt=\"Open In Colab\"/></a>"
      ]
    },
    {
      "cell_type": "code",
      "execution_count": 1,
      "metadata": {
        "id": "Q4-OJxLFwRX3",
        "colab": {
          "base_uri": "https://localhost:8080/"
        },
        "outputId": "c989f4a3-ca61-4dfc-ed91-b9f600662407"
      },
      "outputs": [
        {
          "output_type": "stream",
          "name": "stdout",
          "text": [
            "hello wolrd\n"
          ]
        }
      ],
      "source": [
        "print (\"hello wolrd\")"
      ]
    },
    {
      "cell_type": "code",
      "source": [],
      "metadata": {
        "id": "QdQTIkjc1tN2"
      },
      "execution_count": null,
      "outputs": []
    }
  ]
}